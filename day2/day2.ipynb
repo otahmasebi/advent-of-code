{
 "cells": [
  {
   "cell_type": "code",
   "execution_count": null,
   "metadata": {},
   "outputs": [],
   "source": [
    "reports = []\n",
    "with open(\"input.txt\", \"r\") as f:\n",
    "    for l in f.readlines():\n",
    "        reports.append([int(i) for i in l.split(\" \")])"
   ]
  },
  {
   "cell_type": "markdown",
   "metadata": {},
   "source": [
    "# PART 1"
   ]
  },
  {
   "cell_type": "code",
   "execution_count": null,
   "metadata": {},
   "outputs": [],
   "source": [
    "def is_safe(report):\n",
    "    dir = 0\n",
    "    last_level = report[0]\n",
    "    for idx, level in enumerate(report[1:]):\n",
    "        if level < last_level:\n",
    "            desire_dir = -1\n",
    "        else:\n",
    "            desire_dir = 1\n",
    "        if dir == 0:\n",
    "            dir = desire_dir\n",
    "        elif dir != desire_dir:\n",
    "            return 0, idx\n",
    "        \n",
    "        if abs(level-last_level) < 1 or abs(level-last_level) > 3:\n",
    "            return 0, idx\n",
    "        last_level = level\n",
    "    return 1, None\n",
    "        \n",
    "\n",
    "    \n",
    "safe_reports_count = 0\n",
    "for report in reports:\n",
    "    safe_reports_count += is_safe(report)[0]\n",
    "safe_reports_count"
   ]
  },
  {
   "cell_type": "markdown",
   "metadata": {},
   "source": [
    "# PART 2"
   ]
  },
  {
   "cell_type": "code",
   "execution_count": null,
   "metadata": {},
   "outputs": [],
   "source": [
    "safe_reports_count = 0\n",
    "for report in reports:\n",
    "    first_result = is_safe(report)\n",
    "    if first_result[0]:\n",
    "        safe_reports_count += 1\n",
    "    else:\n",
    "        r_copy = report.copy()\n",
    "        r_copy.pop(first_result[1]+1)\n",
    "        second_result = is_safe(r_copy)\n",
    "        if second_result[0]:\n",
    "            safe_reports_count += 1\n",
    "        else:\n",
    "            r_copy = report.copy()\n",
    "            r_copy.pop(first_result[1])\n",
    "            safe_reports_count += is_safe(r_copy)[0]\n",
    "safe_reports_count"
   ]
  }
 ],
 "metadata": {
  "kernelspec": {
   "display_name": ".venv",
   "language": "python",
   "name": "python3"
  },
  "language_info": {
   "codemirror_mode": {
    "name": "ipython",
    "version": 3
   },
   "file_extension": ".py",
   "mimetype": "text/x-python",
   "name": "python",
   "nbconvert_exporter": "python",
   "pygments_lexer": "ipython3",
   "version": "3.11.7"
  }
 },
 "nbformat": 4,
 "nbformat_minor": 2
}
